{
 "cells": [
  {
   "cell_type": "code",
   "execution_count": 1,
   "id": "da28eeed-0264-409a-97b2-e421b2703a8d",
   "metadata": {},
   "outputs": [],
   "source": [
    "import pandas as pd\n",
    "import numpy as np\n",
    "import torch\n",
    "import torch.nn\n",
    "\n",
    "from sklearn.metrics import r2_score\n",
    "\n",
    "from tqdm import tqdm\n",
    "\n",
    "from pprint import pprint\n",
    "\n",
    "from matplotlib import pyplot as plt"
   ]
  },
  {
   "cell_type": "code",
   "execution_count": 2,
   "id": "237aebfb-132b-46bd-a629-180cb1eddd67",
   "metadata": {},
   "outputs": [],
   "source": [
    "df = pd.read_csv(\"data/W22-anonymized_results-rows.csv\", encoding=\"ANSI\")"
   ]
  },
  {
   "cell_type": "code",
   "execution_count": null,
   "id": "f60af270-a7d0-4fff-af20-accee6aed92f",
   "metadata": {},
   "outputs": [],
   "source": []
  },
  {
   "cell_type": "code",
   "execution_count": 5,
   "id": "1d1077d8-b593-4184-8d8e-f59ab6d12fdb",
   "metadata": {},
   "outputs": [],
   "source": [
    "cols = [i for i in df.columns if \"week\" not in i]"
   ]
  },
  {
   "cell_type": "code",
   "execution_count": 6,
   "id": "f6491453-f241-4992-a976-5a36f19056fa",
   "metadata": {},
   "outputs": [],
   "source": [
    "df2 = df[cols]"
   ]
  },
  {
   "cell_type": "code",
   "execution_count": 8,
   "id": "e0e44b79-229a-4623-97f4-56db4c15920f",
   "metadata": {},
   "outputs": [],
   "source": [
    "df3 = df2.describe()"
   ]
  },
  {
   "cell_type": "code",
   "execution_count": 9,
   "id": "86b19f06-c343-44c9-aa97-39d8f943adf6",
   "metadata": {},
   "outputs": [],
   "source": [
    "df3.to_csv(\"example.csv\")"
   ]
  },
  {
   "cell_type": "code",
   "execution_count": 4,
   "id": "3296ae82-6736-4e18-b327-5b96b666a2a4",
   "metadata": {},
   "outputs": [],
   "source": [
    "df.dropna(axis=1, how='all', inplace=True)"
   ]
  },
  {
   "cell_type": "code",
   "execution_count": 4,
   "id": "69db2296-a1a9-42ab-a393-508934b1398a",
   "metadata": {},
   "outputs": [],
   "source": [
    "to_drop = [col for col in df.columns if \"Percentage\" in col or \"Letter\" in col]"
   ]
  },
  {
   "cell_type": "code",
   "execution_count": 5,
   "id": "e4c1ae9c-96fd-4dbb-97a6-38aad62fb383",
   "metadata": {},
   "outputs": [],
   "source": [
    "df.drop(columns = to_drop, inplace=True)"
   ]
  },
  {
   "cell_type": "code",
   "execution_count": 6,
   "id": "f7f5e6b9-617f-43a5-9869-7a8888565f06",
   "metadata": {},
   "outputs": [],
   "source": [
    "df.drop(columns=[col for col in df.columns\n",
    "                 if list(np.unique(df[col].astype(str))) == [\"-\"]],\n",
    "        inplace=True)\n"
   ]
  },
  {
   "cell_type": "code",
   "execution_count": 7,
   "id": "cb963da7-bdad-4ad6-98a5-fa313043d5c5",
   "metadata": {},
   "outputs": [],
   "source": [
    "df.fillna(\"None\", inplace=True)"
   ]
  },
  {
   "cell_type": "code",
   "execution_count": 8,
   "id": "f09eebc7-ea65-43d3-a6cf-9b78724eb620",
   "metadata": {
    "collapsed": true,
    "jupyter": {
     "outputs_hidden": true
    },
    "tags": []
   },
   "outputs": [
    {
     "name": "stdout",
     "output_type": "stream",
     "text": [
      "- PA01 (Real)\n",
      "- PA02 (Real)\n",
      "- PA03 (Real)\n",
      "- PA04 (Real)\n",
      "- PA05 (Real)\n",
      "- PA06 (Real)\n",
      "- PA07 (Real)\n",
      "- PA08 (Real)\n",
      "- PA09 (Real)\n",
      "- PA10 (Real)\n",
      "- zyBook PAs total (Real)\n",
      "- CA01 (Real)\n",
      "- CA02 (Real)\n",
      "- CA03 (Real)\n",
      "- CA04 (Real)\n",
      "- CA05 (Real)\n",
      "- CA06 (Real)\n",
      "- CA07 (Real)\n",
      "- CA08 (Real)\n",
      "- CA09 (Real)\n",
      "- zyBook Challenge Activities (CAs) total (Real)\n",
      "- Week 1 Lab breakout activity (Real)\n",
      "- Week 2 Lab breakout activity (Real)\n",
      "- Week 3 Lab breakout activity (Real)\n",
      "- Week 4 Lab breakout activity (Real)\n",
      "- Week 5 Lab breakout activity (Real)\n",
      "- Week 6 Lab breakout activity (Real)\n",
      "- Week 7 Lab breakout activity (Real)\n",
      "- Week 8 Lab breakout activity (Real)\n",
      "- Week 9 Lab breakout activity (Real)\n",
      "- Wednesday lab participation total (Real)\n",
      "- LA01 (Real)\n",
      "- LA02 (Real)\n",
      "- LA03 (Real)\n",
      "- LA04 (Real)\n",
      "- LA05 (Real)\n",
      "- LA06 (Real)\n",
      "- LA07 (Real)\n",
      "- Week 8 Labs (Gradescope) (Real)\n",
      "- Week 8 Labs (zyBook 8.16, 8.17) (Real)\n",
      "- LA08 (combined) total (Real)\n",
      "- LA09 (Real)\n",
      "- zyBook Lab Activities (LAs) total (Real)\n",
      "- Labs total (Real)\n",
      "- Quiz:Pop-Quiz 1 (Real)\n",
      "- Quiz:Pop-Quiz 2 (Real)\n",
      "- Quiz:Pop-Quiz 3 (Real)\n",
      "- Quiz:Quiz 5 (Real)\n",
      "- Quiz:Quiz 6 (Real)\n",
      "- Quiz:Quiz 4 (Real)\n",
      "- Extra Credit Quiz total (Real)\n",
      "- Quiz:Replacement Quiz (Gauchospace) (Real)\n",
      "- Quiz:Replacement Quiz (Gradescope) (Real)\n",
      "- Quizzes total (Real)\n",
      "- Quizzes (Gradescope) total (Real)\n",
      "- Week 1 Reflection Score (Real)\n",
      "- Week 2 Reflection Score (Real)\n",
      "- Week 3 Reflection Score (Real)\n",
      "- Week 4 Reflection Score (Real)\n",
      "- Week 5 Reflection Score (Real)\n",
      "- Week 6 Reflection Score (Real)\n",
      "- Week 7 Reflection Score (Real)\n",
      "- Week 8 Reflection Score (Real)\n",
      "- Week 9 Reflection Score (Real)\n",
      "- Weekly Reflection total (Real)\n",
      "- Week 2: compute calories_woman (Real)\n",
      "- Week 3: Ch. 2 questions from the reading quiz (Real)\n",
      "- Week 3: Define a function for hypotenuse (Real)\n",
      "- Week 3: Data Table Properties (Real)\n",
      "- Week 4:if/else concept check (x=0) (Real)\n",
      "- Week 5: new_shell function (Real)\n",
      "- Week 6: Concept-check-division-loop (Real)\n",
      "- Week 6: Concept-check-index-value (Real)\n",
      "- Week 7: task design question (Real)\n",
      "- Week 8: Tu-assert-add_three_to_me (Real)\n",
      "- Week 8: Tu-assert-is_numeric (Real)\n",
      "- Course participation total (Real)\n",
      "- Checkpoint 1 (Real)\n",
      "- Checkpoint 2 (Real)\n",
      "- Final Submission (Real)\n",
      "- Final Reflection (provided PERM/email via a redirected form) (Real)\n",
      "- Final Project Extra Credit (Real)\n",
      "- Final Project total (Real)\n",
      "- Week 10 Lab breakout activity (Real)\n",
      "- Quiz:Practice Quiz Week 6 (Real)\n",
      "- Quiz:Practice Quiz Week 7 (Real)\n",
      "- Quiz:Practice Quiz Week 8 (Real)\n",
      "- Quiz:Practice Quiz Week 9 (Real)\n",
      "- Quiz:Practice Quiz Week 10 (Real)\n",
      "- Quiz:Practice Quiz 5 (Real)\n",
      "- Quiz:Practice Quiz Week 3 - just for extra practice (Real)\n",
      "- Quiz:Practice Quiz 4 - just for extra practice (Real)\n",
      "- Quiz:Reading Quiz (Chapter 1) - just for extra practice (Real)\n",
      "- Quiz:Reading Quiz (Chapter 2) - just for extra practice (Real)\n",
      "- Quiz:Reading Quiz (Chapter 3) - just for extra practice (Real)\n",
      "- Quiz:Practice Quiz (Chapter 3) - just for extra practice (Real)\n",
      "- Quiz:Reading Quiz (Chapter 5) (Real)\n",
      "- Quiz:Reading Quiz (Chapter 6) (Real)\n",
      "- Quiz:Reading Quiz (Chapter 7) (Real)\n",
      "- Quiz:Reading Quiz (Chapter 8) (Real)\n",
      "- Quiz:Reading Quiz (Chapter 4) (Real)\n",
      "- Quiz:Reading Quiz (Chapter 9) (Real)\n",
      "- Quiz:Reading Quiz (Chapter 10) (Real)\n",
      "- Other (not counted activities) total (Real)\n",
      "- Course total (Real)\n",
      "- week4_How do you feel about the material this week?\n",
      "- week4_Give a **specific** example/problem that you found difficult this week and explain _what_ made it challenging. What did you do to solve it? (Write `None` if this week's material was clear.)\n",
      "- week4_Which lab session do you attend on Wednesdays?\n",
      "- week4_What does the TA who is leading the lab do (or has done) well?\n",
      "- week4_LA04 are due next Sunday. What LA would you like Prof. K to solve/deconstruct in class next week?\n",
      "- week4_As we discussed in class, please share what your workload in this class looks like: When were you studying for CSSW8  this week - on what days, at what times, and for how long? How many breaks were you taking? How often? What were you working on: which lab, section, review / practice? If you didn't keep track of it this week, please don't invent these numbers, just tell us that you are not sure of them.\n",
      "- week4_We sincerely hope that you make time for life outside of your classes - you need to make sure that you have something in your life that recharges you. What helps you feel recharged (other than sleep :-))?\n",
      "- week4_What can be improved about your lab section? Please be as specific as possible. Write \"Perfect\" if nothing can be improved.\n",
      "- week4_During labs, would you like to continue to work in groups or transition to working individually?\n",
      "- week4_What _specific_ examples/concepts would you like Prof. K to demonstrate during the class next week? For example, how to check if a dictionary is empty / how to update an item in the dictionary. (Be as specific as possible.)\n",
      "- week4_Which zyBooks topic this week did you find to be the easiest?\n",
      "- week4_Last question: any other thoughts or feedback?\n",
      "- week4_Feel free to share anything else that's happening in your life that you feel good about. What are you excited about this week?\n",
      "- week4_What would make getting help a little easier?\n",
      "- week4_Mental Health Check-in: How are you doing this week (in general, not just in this class)?\n",
      "- week1_How do you feel about the material this week?\n",
      "- week1_What was the most challenging concept for you this week? Give a **specific example/problem** that you found difficult and explain _what_ made it challenging. What did you do to solve it? (Write `None` if this week's material was clear.)\n",
      "- week1_What questions do you still have about this week's material? (You can leave this blank if this week's material was clear.)\n",
      "- week1_Did you encounter any counterintuitive concepts this week? Was there anything that didn't behave in a way you predicted it should?\n",
      "- week1_Did you attend the lab session this week?\n",
      "- week1_If you attended a lab this week, did you feel that the breakout room activity was helpful? If it wasn't helpful, what could have made it more useful to you?\n",
      "- week1_During the labs, would you like to work with others in breakout room?\n",
      "- week1_In order to help us understand how to best structure breakout room activities, please explain why you selected the above answer.\n",
      "- week1_In order to help us understand how to best structure breakout room activities, please explain why you selected the above answer..1\n",
      "- week1_Last question: any other thoughts or feedback?\n",
      "- week5_How do you feel about the material this week?\n",
      "- week5_Give a **specific** example/problem that you found difficult this week and explain _what_ made it challenging. What did you do to solve it? (Write `None` if this week's material was clear.)\n",
      "- week5_Which zyBooks topic this week did you find to be the easiest?\n",
      "- week5_Which lab session do you attend on Wednesdays?\n",
      "- week5_What _specific_ examples/concepts would you like Prof. K or the TAs to discuss/demonstrate next week? (Be as specific as possible.)\n",
      "- week5_As we discussed in class, please share what your workload in this class looks like: When were you studying for CSSW8  this week - on what days, at what times, and for how long? How many breaks were you taking? How often? What were you working on: which lab, section, review / practice? If you didn't keep track of it this week, please don't invent these numbers, just tell us that you are not sure of them.\n",
      "- week5_Start\n",
      "- week5_Stop\n",
      "- week5_Continue\n",
      "- week5_Mental Health Check-in: How are you doing this week (in general, not just in this class)?\n",
      "- week5_Feel free to share anything else that's happening in your life that you feel good about. What are you excited about this week?\n",
      "- week5_Last question: any other thoughts or feedback?\n",
      "- week5_What IDE did you choose to install and use for the Python?\n",
      "- week6_How do you feel about the material this week?\n",
      "- week6_Give a **specific** example/problem that you found difficult this week and explain _what_ made it challenging. What did you do to solve it? (Write `None` if this week's material was clear.)\n",
      "- week6_Which zyBooks topic this week did you find to be the easiest?\n",
      "- week6_Which lab session do you attend on Wednesdays?\n",
      "- week6_Did you use an IDE that you installed for the breakout room Lab 6.25?\n",
      "- week6_What _specific_ examples/concepts would you like Prof. K or the TAs to discuss/demonstrate next week? (Be as specific as possible.)\n",
      "- week6_As we discussed in class, please share what your workload in this class looks like: When were you studying for CSSW8  this week - on what days, at what times, and for how long? How many breaks were you taking? How often? What were you working on: which lab, section, review / practice? If you didn't keep track of it this week, please don't invent these numbers, just tell us that you are not sure of them.\n",
      "- week6_Start - did you start on what you said you needed to start? Share what worked and what didn't and what you plan to do about it.\n",
      "- week6_Stop - did you stop what you said you needed to stop? Share what worked and what didn't and what you plan to do about it.\n",
      "- week6_Continue - were you able to successfully continue what you've been doing? Did it change in any way?\n",
      "- week6_Would you like to be paired up with someone for extra accountability?\n",
      "- week6_Mental Health Check-in: How are you doing this week (in general, not just in this class)?\n",
      "- week6_Feel free to share anything else that's happening in your life that you feel good about. What do you want to remember about this week?\n",
      "- week6_Last question: any other thoughts or feedback?\n",
      "- week6_What resources/activities are most useful for you? Select top 3.\n",
      "- week3_How do you feel about the material this week?\n",
      "- week3_What was the most challenging concept for you this week? Give a **specific example/problem** that you found difficult and explain _what_ made it challenging. What did you do to solve it? (Write `None` if this week's material was clear.)\n",
      "- week3_What questions do you still have about this week's material? (You can leave this blank if this week's material was clear.)\n",
      "- week3_Which data structure from this week was your favorite?\n",
      "- week3_Tell us what made you choose the above option.\n",
      "- week3_Which of the available resources in CSW 8 have you used so far?\n",
      "- week3_LA03 are due next Sunday. What one LA would you like Prof. K to solve/deconstruct in class next week?\n",
      "- week3_What question would you like us to add to the future reflections?\n",
      "- week3_Last question: any other thoughts or feedback?\n",
      "- week7_How are you enjoying the course so far?\n",
      "- week7_Please explain what made you chose the above option.\n",
      "- week7_How do you feel about the material this week?\n",
      "- week7_Give a **specific** example/problem that you found difficult this week and explain _what_ made it challenging. What did you do to solve it? (Write `None` if this week's material was clear.)\n",
      "- week7_Which zyBooks topic this week did you find to be the easiest?\n",
      "- week7_ Did you encounter any counterintuitive concepts this week? Was  there anything that didn't behave in a way that you predicted it should? (Write `None` if nothing surprised you.)\n",
      "- week7_Review what you said was \"the most challenging concept\". Is the most challenging concepts from Week 3 still challenging for you?\n",
      "- week7_If you have the same challenges as before, please share what you did to solve and/or address them.\n",
      "- week7_Please share any thoughts or observations that you have after re-reading your responses from Week 3.\n",
      "- week7_Which lab session do you attend on Wednesdays?\n",
      "- week7_What _specific_ examples/concepts would you like Prof. K or the TAs to discuss/demonstrate next week? (Be as specific as possible.)\n",
      "- week7_Please share any thoughts regarding the Start / Stop / Continue framework and your experience with it so far.\n",
      "- week7_Mental Health Check-in: How are you doing this week (in general, not just in this class)?\n",
      "- week7_Describe your week in 3 words (please keep it PG _Ùª_Ù_ ;-))\n",
      "- week7_Last question: any other thoughts or feedback?\n",
      "- week7_How do you keep track of the schedule in this class?\n",
      "- week2_How do you feel about the material this week?\n",
      "- week2_What was the most challenging concept for you this week? Give a **specific example/problem** that you found difficult and explain _what_ made it challenging. What did you do to solve it? (Write `None` if this week's material was clear.)\n",
      "- week2_What was the most confusing part of this week's material? (You can leave this blank if nothing confused you.)\n",
      "- week2_What questions do you still have about this week's material? (You can leave this blank if this week's material was clear.)\n",
      "- week2_Which lab session did you attend this Wednesday?\n",
      "- week2_Did you attend more than one lab session? If 'yes', please write which ones you attended. \n",
      "- week2_If you attended a lab this week, did you feel that the breakout room activity was helpful? If it wasn't helpful, what could have made it more useful to you?\n",
      "- week2_During the labs, how well were you able to work with others in your breakout room?\n",
      "- week2_In order to help us understand how to best structure breakout room activities, please explain why you selected the above answer.\n",
      "- week2_LA02 are due next Sunday. What one LA would you like Prof. K to solve/deconstruct in class next week?\n",
      "- week2_Last question: any other thoughts or feedback?\n",
      "- week9_How do you feel about the material this week?\n",
      "- week9_Give a **specific** example/problem that you found difficult this week and explain _what_ made it challenging. ==>>> Tell us: what did you do to solve it? (Write `None` if this week's material was clear.)\n",
      "- week9_Which zyBooks topic/lab this week did you find to be the easiest?\n",
      "- week9_In what ways do you recognize this week's chapter relating to the previous weeks' contents? Please tell us all as many different connections as you noticed.\n",
      "- week9_Which lab session do you attend on Wednesdays?\n",
      "- week9_Any feedback about the lab session this week?\n",
      "- week9_Do you wish that the lab instructions were shorter or you prefer them as they currently are?\n",
      "- week9_Please provide more information about why you selected the above option.\n",
      "- week9_What kind of instructions do you think would make it easier _for you_ to start or to work on the labs?\n",
      "- week9_How would you describe your experience with Python prior to this course?\n",
      "- week9_If you had previously programmed, which language(s) have you used?\n",
      "- week9_Throughout the quarter, how comfortable did you feel with working collaboratively online in a **synchronous** setting (e.g., during Zoom meetings)?\n",
      "- week9_Throughout the quarter, how comfortable did you feel with working collaboratively online in a **asynchronous** setting (e.g., on the forum)?\n",
      "- week9_Throughout the quarter, how comfortable did you feel asking the instructor, TA(s)/ULA(s), or other students for help when you need it?\n",
      "- week9_Last question: any other thoughts or feedback?\n",
      "- week8_How do you feel about the material this week?\n",
      "- week8_Give a **specific** example/problem that you found difficult this week and explain _what_ made it challenging. What did you do to solve it? (Write `None` if this week's material was clear.)\n",
      "- week8_Which zyBooks topic this week did you find to be the easiest?\n",
      "- week8_ Did you encounter any counterintuitive concepts this week? Was  there anything that didn't behave in a way that you predicted it should? (Write `None` if nothing surprised you.)\n",
      "- week8_What was particularly helpful for you in class this week?\n",
      "- week8_What would make learning in this class easier for you?\n",
      "- week8_Which lab session do you attend on Wednesdays?\n",
      "- week8_Any feedback about the lab this week?\n",
      "- week8_Last question: any other thoughts or feedback?\n"
     ]
    }
   ],
   "source": [
    "for col in df.columns:\n",
    "    print(\"-\", col)"
   ]
  },
  {
   "cell_type": "code",
   "execution_count": 9,
   "id": "fe5956c6-69ac-4eb4-b8cb-55a128a94102",
   "metadata": {},
   "outputs": [],
   "source": [
    "text_columns = sorted([col for col in df.columns if \"Last question\" in col or \"example/probl\" in col])"
   ]
  },
  {
   "cell_type": "code",
   "execution_count": null,
   "id": "77ebaf92-7603-486e-910a-c46f6014e394",
   "metadata": {},
   "outputs": [],
   "source": []
  },
  {
   "cell_type": "code",
   "execution_count": 107,
   "id": "331a2ae1-d2dd-40f9-b7fb-c4acae9213ce",
   "metadata": {},
   "outputs": [],
   "source": [
    "XY = pd.DataFrame()\n",
    "for col_n in range(0, len(text_columns), 2):\n",
    "    XY[f\"week{col_n//2 + 1}\"] = df[text_columns[col_n]].astype(str).str.lower() + \\\n",
    "                                \"[SEP]\" + \\\n",
    "                               df[text_columns[col_n + 1]].astype(str).str.lower()"
   ]
  },
  {
   "cell_type": "code",
   "execution_count": 108,
   "id": "1d368d96-65ed-4f75-9ea7-73e2eae65917",
   "metadata": {},
   "outputs": [],
   "source": [
    "# Let's leave only thoose who answered on targtet questions at least 2 times\n",
    "empty_reflections = XY[XY.apply(lambda x: sum(len(str(i)) < 15 for i in x) > 7, 1)].index.values"
   ]
  },
  {
   "cell_type": "code",
   "execution_count": 109,
   "id": "749543f8-b570-4b33-b00d-7f25de924062",
   "metadata": {},
   "outputs": [],
   "source": [
    "XY[\"Y\"] = df[\"Course total (Real)\"]"
   ]
  },
  {
   "cell_type": "code",
   "execution_count": 110,
   "id": "cd20d5cc-d0f8-441b-a668-08d33518db5b",
   "metadata": {},
   "outputs": [],
   "source": [
    "XY.drop(index=empty_reflections, inplace=True)"
   ]
  },
  {
   "cell_type": "code",
   "execution_count": 111,
   "id": "d34ce33d-5387-4078-8e36-68aa321f8e07",
   "metadata": {},
   "outputs": [
    {
     "name": "stdout",
     "output_type": "stream",
     "text": [
      "Size of data is 219\n"
     ]
    }
   ],
   "source": [
    "print(f\"Size of data is {len(XY)}\")"
   ]
  },
  {
   "cell_type": "code",
   "execution_count": 84,
   "id": "bf75e0a2-5d12-47f4-8505-36ed791eec73",
   "metadata": {},
   "outputs": [],
   "source": [
    "from transformers import AutoTokenizer, AutoModel"
   ]
  },
  {
   "cell_type": "code",
   "execution_count": 92,
   "id": "a007cee5-9882-4761-a857-0db065842bc4",
   "metadata": {},
   "outputs": [],
   "source": [
    "MODEL = 'sentence-transformers/bert-base-nli-mean-tokens'\n",
    "\n",
    "tokenizer = AutoTokenizer.from_pretrained(MODEL)\n",
    "model = AutoModel.from_pretrained(MODEL)"
   ]
  },
  {
   "cell_type": "code",
   "execution_count": 114,
   "id": "b3fdac19-7da3-4477-beb2-1383fb16480e",
   "metadata": {},
   "outputs": [],
   "source": [
    "def mean_pooling(model_output, attention_mask):\n",
    "    token_embeddings = model_output[0] #First element of model_output contains all token embeddings\n",
    "    input_mask_expanded = attention_mask.unsqueeze(-1).expand(token_embeddings.size()).float()\n",
    "    return torch.sum(token_embeddings * input_mask_expanded, 1) / torch.clamp(input_mask_expanded.sum(1), min=1e-9)\n",
    "\n",
    "def get_768_features(text):\n",
    "    if len(text) > 500:\n",
    "        text = text[:500]\n",
    "    encoded_input = tokenizer([text], return_tensors='pt')\n",
    "    with torch.no_grad():\n",
    "        model_output = model(**encoded_input)\n",
    "    sentence_embeddings = mean_pooling(model_output, encoded_input['attention_mask'])\n",
    "    return sentence_embeddings[0].detach().numpy()"
   ]
  },
  {
   "cell_type": "code",
   "execution_count": 115,
   "id": "d23b6c68-e415-43ab-838e-fb0b373849f3",
   "metadata": {},
   "outputs": [
    {
     "name": "stdout",
     "output_type": "stream",
     "text": [
      "week1 done\n",
      "week2 done\n",
      "week3 done\n",
      "week4 done\n",
      "week5 done\n",
      "week6 done\n",
      "week7 done\n",
      "week8 done\n",
      "week9 done\n"
     ]
    }
   ],
   "source": [
    "for week_n in range(1,10):\n",
    "    column = f\"week{week_n}\"\n",
    "    XY[column + \"_emb\"] = XY[column].apply(get_768_features)\n",
    "    \n",
    "    print(f\"{column} done\")"
   ]
  },
  {
   "cell_type": "code",
   "execution_count": 116,
   "id": "2245acc6-c91e-4bd4-a789-0cf093eb50f3",
   "metadata": {},
   "outputs": [],
   "source": [
    "XY.drop(columns=[f\"week{n}\" for n in range(1,10)], inplace=True)"
   ]
  },
  {
   "cell_type": "code",
   "execution_count": 185,
   "id": "540296ba-5f19-44f7-b4a9-0e9a2fa4a274",
   "metadata": {},
   "outputs": [],
   "source": [
    "Y = XY[\"Y\"].to_numpy()\n",
    "X = XY.drop(columns=[\"Y\"]).to_numpy()"
   ]
  },
  {
   "cell_type": "code",
   "execution_count": 186,
   "id": "40495484-65d1-4b72-8bc9-69e8835099e5",
   "metadata": {},
   "outputs": [],
   "source": [
    "# Crazy flattening and then combining array of array of array back to 3D array (pd, why?!)\n",
    "X = np.array([[list(X[j,i]) for i in range(X.shape[1])] for j in range(X.shape[0])])"
   ]
  },
  {
   "cell_type": "code",
   "execution_count": 189,
   "id": "90a966c8-8847-4cb6-9447-8f47ad6c37aa",
   "metadata": {},
   "outputs": [
    {
     "data": {
      "text/plain": [
       "((219, 9, 768), (219,))"
      ]
     },
     "execution_count": 189,
     "metadata": {},
     "output_type": "execute_result"
    }
   ],
   "source": [
    "X.shape, Y.shape"
   ]
  },
  {
   "cell_type": "code",
   "execution_count": 429,
   "id": "fad727ed-039f-457b-9ba2-d00e13e33f68",
   "metadata": {},
   "outputs": [],
   "source": [
    "from sklearn.model_selection import train_test_split\n",
    "X_train, X_test, y_train, y_test = train_test_split(\n",
    "                  X, Y, test_size=0.15, random_state=42)"
   ]
  },
  {
   "cell_type": "code",
   "execution_count": 430,
   "id": "7d335cbd-ecf1-4430-a486-b5f05e41c45d",
   "metadata": {},
   "outputs": [],
   "source": [
    "X_train = torch.tensor(X_train).float()\n",
    "y_train = torch.tensor(y_train).float().unsqueeze(1).repeat(1, 9)"
   ]
  },
  {
   "cell_type": "markdown",
   "id": "e6a12389-c398-4049-ad9e-645bbfb5c264",
   "metadata": {},
   "source": [
    "# Model"
   ]
  },
  {
   "cell_type": "code",
   "execution_count": 462,
   "id": "04278d9e-a493-4d7b-809d-ac6c61333fed",
   "metadata": {},
   "outputs": [],
   "source": [
    "model = torch.nn.Sequential(\n",
    "    torch.nn.LSTM(768, 128, batch_first=True),\n",
    "    torch.nn.LeakyReLU(),\n",
    "    torch.nn.LSTM(128, 32, batch_first=True),\n",
    "    torch.nn.LeakyReLU(),\n",
    "    torch.nn.Linear(32, 1),\n",
    "    torch.nn.Sigmoid()\n",
    ")\n",
    "\n",
    "def forward(x):\n",
    "    s1, _ = model[0](x)\n",
    "    s2 = model[1](s1)\n",
    "    s3, _ = model[2](s2)\n",
    "    s4 = model[3](s3)\n",
    "    s5 = model[4](s4)\n",
    "    return model[5](s5) * 1000\n",
    "\n",
    "model.forward = forward"
   ]
  },
  {
   "cell_type": "code",
   "execution_count": 463,
   "id": "a2e363d9-dc4f-45d1-a65f-621000a36adb",
   "metadata": {},
   "outputs": [],
   "source": [
    "def loss_function(x, y):\n",
    "    coefs = torch.tensor([i * 0.1 for i in range(1,10)])\n",
    "    return ((x - y).abs() * coefs).mean()\n",
    "\n",
    "learning_rate = 1e-6 # ?\n",
    "optimizer = torch.optim.RMSprop(model.parameters(), lr=learning_rate)"
   ]
  },
  {
   "cell_type": "code",
   "execution_count": 467,
   "id": "bc95c932-c976-496b-b43d-b52aba6c381b",
   "metadata": {},
   "outputs": [
    {
     "name": "stderr",
     "output_type": "stream",
     "text": [
      "100%|████████████████████████████████████████████████████████████████████████████| 1000/1000 [3:48:35<00:00, 13.72s/it]\n"
     ]
    }
   ],
   "source": [
    "losses = []\n",
    "r2s = []\n",
    "order = [i for i in range(len(X_train))]\n",
    "for epoch in tqdm(range(1000)): \n",
    "    np.random.shuffle(order)\n",
    "    inputs = X_train[order].squeeze()\n",
    "    targets = y_train[order].squeeze()\n",
    "    for i in range(len(X_train)):  \n",
    "        \n",
    "        model.zero_grad()\n",
    "        scores = model(inputs[i].unsqueeze(0))\n",
    "        \n",
    "        loss = loss_function(scores.squeeze(), targets[i])\n",
    "        loss.backward()\n",
    "        optimizer.step()\n",
    "        losses += list(loss.detach().flatten())\n",
    "        r2s.append(test())"
   ]
  },
  {
   "cell_type": "code",
   "execution_count": 468,
   "id": "47454e8f-c6a2-4b44-a077-c162c9a120d9",
   "metadata": {},
   "outputs": [
    {
     "data": {
      "text/plain": [
       "[<matplotlib.lines.Line2D at 0x20911d888b0>]"
      ]
     },
     "execution_count": 468,
     "metadata": {},
     "output_type": "execute_result"
    },
    {
     "data": {
      "image/png": "[encoded data removed]",
      "text/plain": [
       "<Figure size 432x288 with 1 Axes>"
      ]
     },
     "metadata": {
      "needs_background": "light"
     },
     "output_type": "display_data"
    }
   ],
   "source": [
    "plt.plot(r2s)"
   ]
  },
  {
   "cell_type": "code",
   "execution_count": 469,
   "id": "bdca9325-f707-4e45-94b9-5de8b512bc4e",
   "metadata": {},
   "outputs": [
    {
     "data": {
      "text/plain": [
       "[<matplotlib.lines.Line2D at 0x20917673430>]"
      ]
     },
     "execution_count": 469,
     "metadata": {},
     "output_type": "execute_result"
    },
    {
     "data": {
      "image/png": "[encoded data removed]",
      "text/plain": [
       "<Figure size 432x288 with 1 Axes>"
      ]
     },
     "metadata": {
      "needs_background": "light"
     },
     "output_type": "display_data"
    }
   ],
   "source": [
    "plt.plot(losses)"
   ]
  },
  {
   "cell_type": "code",
   "execution_count": 470,
   "id": "48774e5a-96ed-4752-a4f5-e83595db4aea",
   "metadata": {},
   "outputs": [],
   "source": [
    "def test():\n",
    "    results = torch.Tensor()\n",
    "    with torch.no_grad():\n",
    "        for i in range(len(X_test)):  \n",
    "\n",
    "            model.zero_grad()\n",
    "            scores = model(torch.from_numpy(X_test[i]).unsqueeze(0).float())\n",
    "            results = torch.cat([results, scores.detach().flatten()])\n",
    "    results = [float(i) for i in sum([list(i.detach().flatten()) for i in results],[])]\n",
    "    y_test2 = sum([[i] * 9 for i in y_test], [])\n",
    "    r2 = r2_score(y_test2, results)\n",
    "    return r2"
   ]
  },
  {
   "cell_type": "code",
   "execution_count": null,
   "id": "7880ea58-2806-42ff-9f52-c3e8266ac7e6",
   "metadata": {
    "tags": []
   },
   "outputs": [],
   "source": []
  },
  {
   "cell_type": "code",
   "execution_count": null,
   "id": "c390adec-43ea-4760-8db0-aa5700d4f609",
   "metadata": {},
   "outputs": [],
   "source": []
  },
  {
   "cell_type": "code",
   "execution_count": null,
   "id": "419aa66c-d228-4343-bb59-51705885d6b0",
   "metadata": {},
   "outputs": [],
   "source": []
  },
  {
   "cell_type": "code",
   "execution_count": null,
   "id": "b609dafb-7007-405d-bfa1-b46810816ea3",
   "metadata": {},
   "outputs": [],
   "source": []
  },
  {
   "cell_type": "code",
   "execution_count": 459,
   "id": "9af274fc-803d-48cc-8c1e-61f7a0568ba3",
   "metadata": {},
   "outputs": [
    {
     "data": {
      "text/plain": [
       "-0.18334409074278524"
      ]
     },
     "execution_count": 459,
     "metadata": {},
     "output_type": "execute_result"
    }
   ],
   "source": [
    "r2"
   ]
  },
  {
   "cell_type": "code",
   "execution_count": null,
   "id": "395d8a4e-98dc-4dfe-bfb5-ee5c2f6ba55e",
   "metadata": {},
   "outputs": [],
   "source": []
  }
 ],
 "metadata": {
  "kernelspec": {
   "display_name": "Python 3 (ipykernel)",
   "language": "python",
   "name": "python3"
  },
  "language_info": {
   "codemirror_mode": {
    "name": "ipython",
    "version": 3
   },
   "file_extension": ".py",
   "mimetype": "text/x-python",
   "name": "python",
   "nbconvert_exporter": "python",
   "pygments_lexer": "ipython3",
   "version": "3.9.12"
  }
 },
 "nbformat": 4,
 "nbformat_minor": 5
}
