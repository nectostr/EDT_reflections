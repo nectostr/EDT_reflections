{
 "cells": [
  {
   "cell_type": "code",
   "execution_count": 1,
   "id": "96f9af50-b6c4-4ddd-b7d6-90b500383dba",
   "metadata": {},
   "outputs": [],
   "source": [
    "import pandas as pd\n",
    "import numpy as np"
   ]
  },
  {
   "cell_type": "code",
   "execution_count": 248,
   "id": "496f36d1-d0f0-438a-8198-ef1f83c91083",
   "metadata": {},
   "outputs": [],
   "source": [
    "import src.roberta as rob"
   ]
  },
  {
   "cell_type": "code",
   "execution_count": 3,
   "id": "f6a7321b-b873-45a6-8448-97f52bca8f9d",
   "metadata": {},
   "outputs": [],
   "source": [
    "from transformers import AutoModelForSequenceClassification\n",
    "from transformers import TFAutoModelForSequenceClassification\n",
    "from transformers import AutoTokenizer\n",
    "import numpy as np\n",
    "from scipy.special import softmax\n",
    "import csv\n",
    "import urllib.request\n"
   ]
  },
  {
   "cell_type": "code",
   "execution_count": 216,
   "id": "d9b8c97b-ec90-4a13-a80f-42c546c3ce9a",
   "metadata": {},
   "outputs": [],
   "source": [
    "quizzes = {\"week2\": \"Quiz 1\",\n",
    "           \"week3\": \"Quiz 2\",\n",
    "           \"week4\": \"Quiz 3\",\n",
    "           \"week5\": None,\n",
    "           \"week6\": \"Quiz 4\",\n",
    "           \"week7\": \"Quiz 5\",\n",
    "           \"week8\": None}"
   ]
  },
  {
   "cell_type": "code",
   "execution_count": 288,
   "id": "83cdfd51-c96f-4d28-bec5-2700b9653e27",
   "metadata": {},
   "outputs": [],
   "source": [
    "df = pd.read_csv(\"data/anonymized_results.csv\")"
   ]
  },
  {
   "cell_type": "code",
   "execution_count": 289,
   "id": "9c2fe796-8349-4ed2-a11b-7b1ba7f7df71",
   "metadata": {},
   "outputs": [],
   "source": [
    "for col in df.columns:\n",
    "    if list(np.unique(df[col].astype(str))) == [\"-\"]:\n",
    "        df.drop(columns=[col], inplace=True)"
   ]
  },
  {
   "cell_type": "code",
   "execution_count": 290,
   "id": "206a6dc0-dfa3-4e78-afb4-eb3046241924",
   "metadata": {},
   "outputs": [
    {
     "data": {
      "text/plain": [
       "282"
      ]
     },
     "execution_count": 290,
     "metadata": {},
     "output_type": "execute_result"
    }
   ],
   "source": [
    "len(df)"
   ]
  },
  {
   "cell_type": "code",
   "execution_count": 212,
   "id": "97d4052f-473c-4713-bf70-090402f18a75",
   "metadata": {},
   "outputs": [
    {
     "ename": "KeyError",
     "evalue": "'Quiz:Quiz 7 (Real)'",
     "output_type": "error",
     "traceback": [
      "\u001b[1;31m---------------------------------------------------------------------------\u001b[0m",
      "\u001b[1;31mKeyError\u001b[0m                                  Traceback (most recent call last)",
      "File \u001b[1;32mL:\\Users\\nectostr\\miniconda3\\envs\\nlp\\lib\\site-packages\\pandas\\core\\indexes\\base.py:3621\u001b[0m, in \u001b[0;36mIndex.get_loc\u001b[1;34m(self, key, method, tolerance)\u001b[0m\n\u001b[0;32m   3620\u001b[0m \u001b[38;5;28;01mtry\u001b[39;00m:\n\u001b[1;32m-> 3621\u001b[0m     \u001b[38;5;28;01mreturn\u001b[39;00m \u001b[38;5;28;43mself\u001b[39;49m\u001b[38;5;241;43m.\u001b[39;49m\u001b[43m_engine\u001b[49m\u001b[38;5;241;43m.\u001b[39;49m\u001b[43mget_loc\u001b[49m\u001b[43m(\u001b[49m\u001b[43mcasted_key\u001b[49m\u001b[43m)\u001b[49m\n\u001b[0;32m   3622\u001b[0m \u001b[38;5;28;01mexcept\u001b[39;00m \u001b[38;5;167;01mKeyError\u001b[39;00m \u001b[38;5;28;01mas\u001b[39;00m err:\n",
      "File \u001b[1;32mL:\\Users\\nectostr\\miniconda3\\envs\\nlp\\lib\\site-packages\\pandas\\_libs\\index.pyx:136\u001b[0m, in \u001b[0;36mpandas._libs.index.IndexEngine.get_loc\u001b[1;34m()\u001b[0m\n",
      "File \u001b[1;32mL:\\Users\\nectostr\\miniconda3\\envs\\nlp\\lib\\site-packages\\pandas\\_libs\\index.pyx:163\u001b[0m, in \u001b[0;36mpandas._libs.index.IndexEngine.get_loc\u001b[1;34m()\u001b[0m\n",
      "File \u001b[1;32mpandas\\_libs\\hashtable_class_helper.pxi:5198\u001b[0m, in \u001b[0;36mpandas._libs.hashtable.PyObjectHashTable.get_item\u001b[1;34m()\u001b[0m\n",
      "File \u001b[1;32mpandas\\_libs\\hashtable_class_helper.pxi:5206\u001b[0m, in \u001b[0;36mpandas._libs.hashtable.PyObjectHashTable.get_item\u001b[1;34m()\u001b[0m\n",
      "\u001b[1;31mKeyError\u001b[0m: 'Quiz:Quiz 7 (Real)'",
      "\nThe above exception was the direct cause of the following exception:\n",
      "\u001b[1;31mKeyError\u001b[0m                                  Traceback (most recent call last)",
      "Input \u001b[1;32mIn [212]\u001b[0m, in \u001b[0;36m<cell line: 1>\u001b[1;34m()\u001b[0m\n\u001b[1;32m----> 1\u001b[0m np\u001b[38;5;241m.\u001b[39munique(\u001b[43mdf\u001b[49m\u001b[43m[\u001b[49m\u001b[38;5;124;43m\"\u001b[39;49m\u001b[38;5;124;43mQuiz:Quiz 7 (Real)\u001b[39;49m\u001b[38;5;124;43m\"\u001b[39;49m\u001b[43m]\u001b[49m)\n",
      "File \u001b[1;32mL:\\Users\\nectostr\\miniconda3\\envs\\nlp\\lib\\site-packages\\pandas\\core\\frame.py:3505\u001b[0m, in \u001b[0;36mDataFrame.__getitem__\u001b[1;34m(self, key)\u001b[0m\n\u001b[0;32m   3503\u001b[0m \u001b[38;5;28;01mif\u001b[39;00m \u001b[38;5;28mself\u001b[39m\u001b[38;5;241m.\u001b[39mcolumns\u001b[38;5;241m.\u001b[39mnlevels \u001b[38;5;241m>\u001b[39m \u001b[38;5;241m1\u001b[39m:\n\u001b[0;32m   3504\u001b[0m     \u001b[38;5;28;01mreturn\u001b[39;00m \u001b[38;5;28mself\u001b[39m\u001b[38;5;241m.\u001b[39m_getitem_multilevel(key)\n\u001b[1;32m-> 3505\u001b[0m indexer \u001b[38;5;241m=\u001b[39m \u001b[38;5;28;43mself\u001b[39;49m\u001b[38;5;241;43m.\u001b[39;49m\u001b[43mcolumns\u001b[49m\u001b[38;5;241;43m.\u001b[39;49m\u001b[43mget_loc\u001b[49m\u001b[43m(\u001b[49m\u001b[43mkey\u001b[49m\u001b[43m)\u001b[49m\n\u001b[0;32m   3506\u001b[0m \u001b[38;5;28;01mif\u001b[39;00m is_integer(indexer):\n\u001b[0;32m   3507\u001b[0m     indexer \u001b[38;5;241m=\u001b[39m [indexer]\n",
      "File \u001b[1;32mL:\\Users\\nectostr\\miniconda3\\envs\\nlp\\lib\\site-packages\\pandas\\core\\indexes\\base.py:3623\u001b[0m, in \u001b[0;36mIndex.get_loc\u001b[1;34m(self, key, method, tolerance)\u001b[0m\n\u001b[0;32m   3621\u001b[0m     \u001b[38;5;28;01mreturn\u001b[39;00m \u001b[38;5;28mself\u001b[39m\u001b[38;5;241m.\u001b[39m_engine\u001b[38;5;241m.\u001b[39mget_loc(casted_key)\n\u001b[0;32m   3622\u001b[0m \u001b[38;5;28;01mexcept\u001b[39;00m \u001b[38;5;167;01mKeyError\u001b[39;00m \u001b[38;5;28;01mas\u001b[39;00m err:\n\u001b[1;32m-> 3623\u001b[0m     \u001b[38;5;28;01mraise\u001b[39;00m \u001b[38;5;167;01mKeyError\u001b[39;00m(key) \u001b[38;5;28;01mfrom\u001b[39;00m \u001b[38;5;21;01merr\u001b[39;00m\n\u001b[0;32m   3624\u001b[0m \u001b[38;5;28;01mexcept\u001b[39;00m \u001b[38;5;167;01mTypeError\u001b[39;00m:\n\u001b[0;32m   3625\u001b[0m     \u001b[38;5;66;03m# If we have a listlike key, _check_indexing_error will raise\u001b[39;00m\n\u001b[0;32m   3626\u001b[0m     \u001b[38;5;66;03m#  InvalidIndexError. Otherwise we fall through and re-raise\u001b[39;00m\n\u001b[0;32m   3627\u001b[0m     \u001b[38;5;66;03m#  the TypeError.\u001b[39;00m\n\u001b[0;32m   3628\u001b[0m     \u001b[38;5;28mself\u001b[39m\u001b[38;5;241m.\u001b[39m_check_indexing_error(key)\n",
      "\u001b[1;31mKeyError\u001b[0m: 'Quiz:Quiz 7 (Real)'"
     ]
    }
   ],
   "source": [
    "np.unique(df[\"Quiz:Quiz 7 (Real)\"])"
   ]
  },
  {
   "cell_type": "code",
   "execution_count": 4,
   "id": "7845d598-fbc4-4136-9952-288ca7350269",
   "metadata": {},
   "outputs": [],
   "source": [
    "task='sentiment'\n",
    "MODEL = f\"cardiffnlp/twitter-roberta-base-{task}\"\n",
    "\n",
    "tokenizer = AutoTokenizer.from_pretrained(MODEL)"
   ]
  },
  {
   "cell_type": "code",
   "execution_count": 25,
   "id": "e4cadaba-8652-4176-9e50-94a74d8857e9",
   "metadata": {},
   "outputs": [],
   "source": [
    "model = AutoModelForSequenceClassification.from_pretrained(MODEL)"
   ]
  },
  {
   "cell_type": "code",
   "execution_count": 26,
   "id": "9ef7a29a-6ba2-46c1-996c-de90ca4e5ade",
   "metadata": {},
   "outputs": [
    {
     "data": {
      "text/plain": [
       "transformers.models.roberta.modeling_roberta.RobertaForSequenceClassification"
      ]
     },
     "execution_count": 26,
     "metadata": {},
     "output_type": "execute_result"
    }
   ],
   "source": [
    "type(model)"
   ]
  },
  {
   "cell_type": "code",
   "execution_count": 44,
   "id": "8b27928a-3654-4d74-8a0f-77df80c0dc74",
   "metadata": {
    "tags": []
   },
   "outputs": [],
   "source": [
    "new_model = model.base_model"
   ]
  },
  {
   "cell_type": "code",
   "execution_count": 47,
   "id": "0cdbe22f-1ba9-4e23-a1ff-c7ae5d884a4b",
   "metadata": {
    "collapsed": true,
    "jupyter": {
     "outputs_hidden": true
    },
    "tags": []
   },
   "outputs": [
    {
     "data": {
      "text/plain": [
       "RobertaModel(\n",
       "  (embeddings): RobertaEmbeddings(\n",
       "    (word_embeddings): Embedding(50265, 768, padding_idx=1)\n",
       "    (position_embeddings): Embedding(514, 768, padding_idx=1)\n",
       "    (token_type_embeddings): Embedding(1, 768)\n",
       "    (LayerNorm): LayerNorm((768,), eps=1e-05, elementwise_affine=True)\n",
       "    (dropout): Dropout(p=0.1, inplace=False)\n",
       "  )\n",
       "  (encoder): RobertaEncoder(\n",
       "    (layer): ModuleList(\n",
       "      (0): RobertaLayer(\n",
       "        (attention): RobertaAttention(\n",
       "          (self): RobertaSelfAttention(\n",
       "            (query): Linear(in_features=768, out_features=768, bias=True)\n",
       "            (key): Linear(in_features=768, out_features=768, bias=True)\n",
       "            (value): Linear(in_features=768, out_features=768, bias=True)\n",
       "            (dropout): Dropout(p=0.1, inplace=False)\n",
       "          )\n",
       "          (output): RobertaSelfOutput(\n",
       "            (dense): Linear(in_features=768, out_features=768, bias=True)\n",
       "            (LayerNorm): LayerNorm((768,), eps=1e-05, elementwise_affine=True)\n",
       "            (dropout): Dropout(p=0.1, inplace=False)\n",
       "          )\n",
       "        )\n",
       "        (intermediate): RobertaIntermediate(\n",
       "          (dense): Linear(in_features=768, out_features=3072, bias=True)\n",
       "          (intermediate_act_fn): GELUActivation()\n",
       "        )\n",
       "        (output): RobertaOutput(\n",
       "          (dense): Linear(in_features=3072, out_features=768, bias=True)\n",
       "          (LayerNorm): LayerNorm((768,), eps=1e-05, elementwise_affine=True)\n",
       "          (dropout): Dropout(p=0.1, inplace=False)\n",
       "        )\n",
       "      )\n",
       "      (1): RobertaLayer(\n",
       "        (attention): RobertaAttention(\n",
       "          (self): RobertaSelfAttention(\n",
       "            (query): Linear(in_features=768, out_features=768, bias=True)\n",
       "            (key): Linear(in_features=768, out_features=768, bias=True)\n",
       "            (value): Linear(in_features=768, out_features=768, bias=True)\n",
       "            (dropout): Dropout(p=0.1, inplace=False)\n",
       "          )\n",
       "          (output): RobertaSelfOutput(\n",
       "            (dense): Linear(in_features=768, out_features=768, bias=True)\n",
       "            (LayerNorm): LayerNorm((768,), eps=1e-05, elementwise_affine=True)\n",
       "            (dropout): Dropout(p=0.1, inplace=False)\n",
       "          )\n",
       "        )\n",
       "        (intermediate): RobertaIntermediate(\n",
       "          (dense): Linear(in_features=768, out_features=3072, bias=True)\n",
       "          (intermediate_act_fn): GELUActivation()\n",
       "        )\n",
       "        (output): RobertaOutput(\n",
       "          (dense): Linear(in_features=3072, out_features=768, bias=True)\n",
       "          (LayerNorm): LayerNorm((768,), eps=1e-05, elementwise_affine=True)\n",
       "          (dropout): Dropout(p=0.1, inplace=False)\n",
       "        )\n",
       "      )\n",
       "      (2): RobertaLayer(\n",
       "        (attention): RobertaAttention(\n",
       "          (self): RobertaSelfAttention(\n",
       "            (query): Linear(in_features=768, out_features=768, bias=True)\n",
       "            (key): Linear(in_features=768, out_features=768, bias=True)\n",
       "            (value): Linear(in_features=768, out_features=768, bias=True)\n",
       "            (dropout): Dropout(p=0.1, inplace=False)\n",
       "          )\n",
       "          (output): RobertaSelfOutput(\n",
       "            (dense): Linear(in_features=768, out_features=768, bias=True)\n",
       "            (LayerNorm): LayerNorm((768,), eps=1e-05, elementwise_affine=True)\n",
       "            (dropout): Dropout(p=0.1, inplace=False)\n",
       "          )\n",
       "        )\n",
       "        (intermediate): RobertaIntermediate(\n",
       "          (dense): Linear(in_features=768, out_features=3072, bias=True)\n",
       "          (intermediate_act_fn): GELUActivation()\n",
       "        )\n",
       "        (output): RobertaOutput(\n",
       "          (dense): Linear(in_features=3072, out_features=768, bias=True)\n",
       "          (LayerNorm): LayerNorm((768,), eps=1e-05, elementwise_affine=True)\n",
       "          (dropout): Dropout(p=0.1, inplace=False)\n",
       "        )\n",
       "      )\n",
       "      (3): RobertaLayer(\n",
       "        (attention): RobertaAttention(\n",
       "          (self): RobertaSelfAttention(\n",
       "            (query): Linear(in_features=768, out_features=768, bias=True)\n",
       "            (key): Linear(in_features=768, out_features=768, bias=True)\n",
       "            (value): Linear(in_features=768, out_features=768, bias=True)\n",
       "            (dropout): Dropout(p=0.1, inplace=False)\n",
       "          )\n",
       "          (output): RobertaSelfOutput(\n",
       "            (dense): Linear(in_features=768, out_features=768, bias=True)\n",
       "            (LayerNorm): LayerNorm((768,), eps=1e-05, elementwise_affine=True)\n",
       "            (dropout): Dropout(p=0.1, inplace=False)\n",
       "          )\n",
       "        )\n",
       "        (intermediate): RobertaIntermediate(\n",
       "          (dense): Linear(in_features=768, out_features=3072, bias=True)\n",
       "          (intermediate_act_fn): GELUActivation()\n",
       "        )\n",
       "        (output): RobertaOutput(\n",
       "          (dense): Linear(in_features=3072, out_features=768, bias=True)\n",
       "          (LayerNorm): LayerNorm((768,), eps=1e-05, elementwise_affine=True)\n",
       "          (dropout): Dropout(p=0.1, inplace=False)\n",
       "        )\n",
       "      )\n",
       "      (4): RobertaLayer(\n",
       "        (attention): RobertaAttention(\n",
       "          (self): RobertaSelfAttention(\n",
       "            (query): Linear(in_features=768, out_features=768, bias=True)\n",
       "            (key): Linear(in_features=768, out_features=768, bias=True)\n",
       "            (value): Linear(in_features=768, out_features=768, bias=True)\n",
       "            (dropout): Dropout(p=0.1, inplace=False)\n",
       "          )\n",
       "          (output): RobertaSelfOutput(\n",
       "            (dense): Linear(in_features=768, out_features=768, bias=True)\n",
       "            (LayerNorm): LayerNorm((768,), eps=1e-05, elementwise_affine=True)\n",
       "            (dropout): Dropout(p=0.1, inplace=False)\n",
       "          )\n",
       "        )\n",
       "        (intermediate): RobertaIntermediate(\n",
       "          (dense): Linear(in_features=768, out_features=3072, bias=True)\n",
       "          (intermediate_act_fn): GELUActivation()\n",
       "        )\n",
       "        (output): RobertaOutput(\n",
       "          (dense): Linear(in_features=3072, out_features=768, bias=True)\n",
       "          (LayerNorm): LayerNorm((768,), eps=1e-05, elementwise_affine=True)\n",
       "          (dropout): Dropout(p=0.1, inplace=False)\n",
       "        )\n",
       "      )\n",
       "      (5): RobertaLayer(\n",
       "        (attention): RobertaAttention(\n",
       "          (self): RobertaSelfAttention(\n",
       "            (query): Linear(in_features=768, out_features=768, bias=True)\n",
       "            (key): Linear(in_features=768, out_features=768, bias=True)\n",
       "            (value): Linear(in_features=768, out_features=768, bias=True)\n",
       "            (dropout): Dropout(p=0.1, inplace=False)\n",
       "          )\n",
       "          (output): RobertaSelfOutput(\n",
       "            (dense): Linear(in_features=768, out_features=768, bias=True)\n",
       "            (LayerNorm): LayerNorm((768,), eps=1e-05, elementwise_affine=True)\n",
       "            (dropout): Dropout(p=0.1, inplace=False)\n",
       "          )\n",
       "        )\n",
       "        (intermediate): RobertaIntermediate(\n",
       "          (dense): Linear(in_features=768, out_features=3072, bias=True)\n",
       "          (intermediate_act_fn): GELUActivation()\n",
       "        )\n",
       "        (output): RobertaOutput(\n",
       "          (dense): Linear(in_features=3072, out_features=768, bias=True)\n",
       "          (LayerNorm): LayerNorm((768,), eps=1e-05, elementwise_affine=True)\n",
       "          (dropout): Dropout(p=0.1, inplace=False)\n",
       "        )\n",
       "      )\n",
       "      (6): RobertaLayer(\n",
       "        (attention): RobertaAttention(\n",
       "          (self): RobertaSelfAttention(\n",
       "            (query): Linear(in_features=768, out_features=768, bias=True)\n",
       "            (key): Linear(in_features=768, out_features=768, bias=True)\n",
       "            (value): Linear(in_features=768, out_features=768, bias=True)\n",
       "            (dropout): Dropout(p=0.1, inplace=False)\n",
       "          )\n",
       "          (output): RobertaSelfOutput(\n",
       "            (dense): Linear(in_features=768, out_features=768, bias=True)\n",
       "            (LayerNorm): LayerNorm((768,), eps=1e-05, elementwise_affine=True)\n",
       "            (dropout): Dropout(p=0.1, inplace=False)\n",
       "          )\n",
       "        )\n",
       "        (intermediate): RobertaIntermediate(\n",
       "          (dense): Linear(in_features=768, out_features=3072, bias=True)\n",
       "          (intermediate_act_fn): GELUActivation()\n",
       "        )\n",
       "        (output): RobertaOutput(\n",
       "          (dense): Linear(in_features=3072, out_features=768, bias=True)\n",
       "          (LayerNorm): LayerNorm((768,), eps=1e-05, elementwise_affine=True)\n",
       "          (dropout): Dropout(p=0.1, inplace=False)\n",
       "        )\n",
       "      )\n",
       "      (7): RobertaLayer(\n",
       "        (attention): RobertaAttention(\n",
       "          (self): RobertaSelfAttention(\n",
       "            (query): Linear(in_features=768, out_features=768, bias=True)\n",
       "            (key): Linear(in_features=768, out_features=768, bias=True)\n",
       "            (value): Linear(in_features=768, out_features=768, bias=True)\n",
       "            (dropout): Dropout(p=0.1, inplace=False)\n",
       "          )\n",
       "          (output): RobertaSelfOutput(\n",
       "            (dense): Linear(in_features=768, out_features=768, bias=True)\n",
       "            (LayerNorm): LayerNorm((768,), eps=1e-05, elementwise_affine=True)\n",
       "            (dropout): Dropout(p=0.1, inplace=False)\n",
       "          )\n",
       "        )\n",
       "        (intermediate): RobertaIntermediate(\n",
       "          (dense): Linear(in_features=768, out_features=3072, bias=True)\n",
       "          (intermediate_act_fn): GELUActivation()\n",
       "        )\n",
       "        (output): RobertaOutput(\n",
       "          (dense): Linear(in_features=3072, out_features=768, bias=True)\n",
       "          (LayerNorm): LayerNorm((768,), eps=1e-05, elementwise_affine=True)\n",
       "          (dropout): Dropout(p=0.1, inplace=False)\n",
       "        )\n",
       "      )\n",
       "      (8): RobertaLayer(\n",
       "        (attention): RobertaAttention(\n",
       "          (self): RobertaSelfAttention(\n",
       "            (query): Linear(in_features=768, out_features=768, bias=True)\n",
       "            (key): Linear(in_features=768, out_features=768, bias=True)\n",
       "            (value): Linear(in_features=768, out_features=768, bias=True)\n",
       "            (dropout): Dropout(p=0.1, inplace=False)\n",
       "          )\n",
       "          (output): RobertaSelfOutput(\n",
       "            (dense): Linear(in_features=768, out_features=768, bias=True)\n",
       "            (LayerNorm): LayerNorm((768,), eps=1e-05, elementwise_affine=True)\n",
       "            (dropout): Dropout(p=0.1, inplace=False)\n",
       "          )\n",
       "        )\n",
       "        (intermediate): RobertaIntermediate(\n",
       "          (dense): Linear(in_features=768, out_features=3072, bias=True)\n",
       "          (intermediate_act_fn): GELUActivation()\n",
       "        )\n",
       "        (output): RobertaOutput(\n",
       "          (dense): Linear(in_features=3072, out_features=768, bias=True)\n",
       "          (LayerNorm): LayerNorm((768,), eps=1e-05, elementwise_affine=True)\n",
       "          (dropout): Dropout(p=0.1, inplace=False)\n",
       "        )\n",
       "      )\n",
       "      (9): RobertaLayer(\n",
       "        (attention): RobertaAttention(\n",
       "          (self): RobertaSelfAttention(\n",
       "            (query): Linear(in_features=768, out_features=768, bias=True)\n",
       "            (key): Linear(in_features=768, out_features=768, bias=True)\n",
       "            (value): Linear(in_features=768, out_features=768, bias=True)\n",
       "            (dropout): Dropout(p=0.1, inplace=False)\n",
       "          )\n",
       "          (output): RobertaSelfOutput(\n",
       "            (dense): Linear(in_features=768, out_features=768, bias=True)\n",
       "            (LayerNorm): LayerNorm((768,), eps=1e-05, elementwise_affine=True)\n",
       "            (dropout): Dropout(p=0.1, inplace=False)\n",
       "          )\n",
       "        )\n",
       "        (intermediate): RobertaIntermediate(\n",
       "          (dense): Linear(in_features=768, out_features=3072, bias=True)\n",
       "          (intermediate_act_fn): GELUActivation()\n",
       "        )\n",
       "        (output): RobertaOutput(\n",
       "          (dense): Linear(in_features=3072, out_features=768, bias=True)\n",
       "          (LayerNorm): LayerNorm((768,), eps=1e-05, elementwise_affine=True)\n",
       "          (dropout): Dropout(p=0.1, inplace=False)\n",
       "        )\n",
       "      )\n",
       "      (10): RobertaLayer(\n",
       "        (attention): RobertaAttention(\n",
       "          (self): RobertaSelfAttention(\n",
       "            (query): Linear(in_features=768, out_features=768, bias=True)\n",
       "            (key): Linear(in_features=768, out_features=768, bias=True)\n",
       "            (value): Linear(in_features=768, out_features=768, bias=True)\n",
       "            (dropout): Dropout(p=0.1, inplace=False)\n",
       "          )\n",
       "          (output): RobertaSelfOutput(\n",
       "            (dense): Linear(in_features=768, out_features=768, bias=True)\n",
       "            (LayerNorm): LayerNorm((768,), eps=1e-05, elementwise_affine=True)\n",
       "            (dropout): Dropout(p=0.1, inplace=False)\n",
       "          )\n",
       "        )\n",
       "        (intermediate): RobertaIntermediate(\n",
       "          (dense): Linear(in_features=768, out_features=3072, bias=True)\n",
       "          (intermediate_act_fn): GELUActivation()\n",
       "        )\n",
       "        (output): RobertaOutput(\n",
       "          (dense): Linear(in_features=3072, out_features=768, bias=True)\n",
       "          (LayerNorm): LayerNorm((768,), eps=1e-05, elementwise_affine=True)\n",
       "          (dropout): Dropout(p=0.1, inplace=False)\n",
       "        )\n",
       "      )\n",
       "      (11): RobertaLayer(\n",
       "        (attention): RobertaAttention(\n",
       "          (self): RobertaSelfAttention(\n",
       "            (query): Linear(in_features=768, out_features=768, bias=True)\n",
       "            (key): Linear(in_features=768, out_features=768, bias=True)\n",
       "            (value): Linear(in_features=768, out_features=768, bias=True)\n",
       "            (dropout): Dropout(p=0.1, inplace=False)\n",
       "          )\n",
       "          (output): RobertaSelfOutput(\n",
       "            (dense): Linear(in_features=768, out_features=768, bias=True)\n",
       "            (LayerNorm): LayerNorm((768,), eps=1e-05, elementwise_affine=True)\n",
       "            (dropout): Dropout(p=0.1, inplace=False)\n",
       "          )\n",
       "        )\n",
       "        (intermediate): RobertaIntermediate(\n",
       "          (dense): Linear(in_features=768, out_features=3072, bias=True)\n",
       "          (intermediate_act_fn): GELUActivation()\n",
       "        )\n",
       "        (output): RobertaOutput(\n",
       "          (dense): Linear(in_features=3072, out_features=768, bias=True)\n",
       "          (LayerNorm): LayerNorm((768,), eps=1e-05, elementwise_affine=True)\n",
       "          (dropout): Dropout(p=0.1, inplace=False)\n",
       "        )\n",
       "      )\n",
       "    )\n",
       "  )\n",
       ")"
      ]
     },
     "execution_count": 47,
     "metadata": {},
     "output_type": "execute_result"
    }
   ],
   "source": [
    "new_model"
   ]
  },
  {
   "cell_type": "code",
   "execution_count": 96,
   "id": "a06f2ad1-f2c1-4bbf-9c88-5da1d5d07073",
   "metadata": {},
   "outputs": [],
   "source": [
    "def get_768_features(text):\n",
    "    encoded_input = tokenizer(text, return_tensors='pt')\n",
    "    output = new_model(**encoded_input)\n",
    "    scores = output[0][0].detach().numpy()\n",
    "    return scores[0]"
   ]
  },
  {
   "cell_type": "code",
   "execution_count": 60,
   "id": "4f01251a-26cc-4aba-b163-f41c5f3af94f",
   "metadata": {},
   "outputs": [],
   "source": [
    "encoded_input = tokenizer(\"Hello world, this is a strange text without brackets\", return_tensors='pt')"
   ]
  },
  {
   "cell_type": "code",
   "execution_count": 62,
   "id": "06f53c15-46ca-4832-9302-bc5a25981bf1",
   "metadata": {},
   "outputs": [],
   "source": [
    "output = new_model(**encoded_input)"
   ]
  },
  {
   "cell_type": "code",
   "execution_count": 67,
   "id": "28beabe9-29d0-47df-ab20-244c9e41554b",
   "metadata": {},
   "outputs": [
    {
     "data": {
      "text/plain": [
       "torch.Size([12, 768])"
      ]
     },
     "execution_count": 67,
     "metadata": {},
     "output_type": "execute_result"
    }
   ],
   "source": [
    "output[0][0].shape"
   ]
  },
  {
   "cell_type": "code",
   "execution_count": 95,
   "id": "77f39a24-60d8-4142-82f1-891f3d71dd8b",
   "metadata": {},
   "outputs": [
    {
     "data": {
      "text/plain": [
       "torch.Size([768])"
      ]
     },
     "execution_count": 95,
     "metadata": {},
     "output_type": "execute_result"
    }
   ],
   "source": [
    "output[0][0][0].shape"
   ]
  },
  {
   "cell_type": "code",
   "execution_count": null,
   "id": "87763916-ab00-4e56-bcb7-a34e652ec52c",
   "metadata": {},
   "outputs": [],
   "source": [
    "# Try claster 0\n",
    "# Try claster avg"
   ]
  },
  {
   "cell_type": "code",
   "execution_count": 293,
   "id": "94976cf4-41ef-4570-9c98-b095789790bc",
   "metadata": {},
   "outputs": [],
   "source": [
    "target = pd.DataFrame()\n",
    "dump = pd.DataFrame()\n",
    "\n",
    "for k, v in quizzes.items():\n",
    "    if not v is None:\n",
    "        col = [i for i in df.columns if v in i][0]\n",
    "        df.loc[df[col] == \"-\",col] = '0'\n",
    "        target[f\"{k}_quiz\"] = df[col] \n",
    "\n",
    "for week_n in range(2, 9):\n",
    "    target[f\"week{week_n}_text\"] = [\"\"] * len(df)\n",
    "    for col in df.columns:\n",
    "        #if f\"week{week_n}\" in col:\n",
    "        if (f\"week{week_n}\" in col) and ((\"Last question\" in col) or (\"most challenging\" in col)):\n",
    "            if len(df.groupby([col]).size()) <= 10:\n",
    "                continue\n",
    "            dump[col] = df[col]\n",
    "            dump.loc[dump[col].astype(str).str.len() < 5,col] = \"\"\n",
    "            dump.fillna(\"\", inplace=True)\n",
    "            target[f\"week{week_n}_text\"] += \" \" + dump[col].astype(str)\n",
    "        \n",
    "        if f\"LA0{week_n}\" in col:\n",
    "            target[col] = df[col]\n",
    "\n"
   ]
  },
  {
   "cell_type": "code",
   "execution_count": 295,
   "id": "ea4ed2ef-7b14-4f57-a3fa-59d43d820e28",
   "metadata": {},
   "outputs": [
    {
     "name": "stdout",
     "output_type": "stream",
     "text": [
      "2 4838 162.1241134751773\n",
      "Cutted 12\n",
      "2 1367 107.01418439716312\n",
      "Cutted 7\n"
     ]
    },
    {
     "data": {
      "text/html": [
       "<div>\n",
       "<style scoped>\n",
       "    .dataframe tbody tr th:only-of-type {\n",
       "        vertical-align: middle;\n",
       "    }\n",
       "\n",
       "    .dataframe tbody tr th {\n",
       "        vertical-align: top;\n",
       "    }\n",
       "\n",
       "    .dataframe thead th {\n",
       "        text-align: right;\n",
       "    }\n",
       "</style>\n",
       "<table border=\"1\" class=\"dataframe\">\n",
       "  <thead>\n",
       "    <tr style=\"text-align: right;\">\n",
       "      <th></th>\n",
       "      <th>week2_quiz</th>\n",
       "      <th>week3_quiz</th>\n",
       "      <th>week4_quiz</th>\n",
       "      <th>week6_quiz</th>\n",
       "      <th>week7_quiz</th>\n",
       "      <th>week2_text</th>\n",
       "      <th>LA02 (Real)</th>\n",
       "      <th>week3_text</th>\n",
       "      <th>LA03 (Real)</th>\n",
       "      <th>week4_text</th>\n",
       "      <th>...</th>\n",
       "      <th>week6_text</th>\n",
       "      <th>LA06 (combined) total (Real)</th>\n",
       "      <th>week7_text</th>\n",
       "      <th>LA07 (Real)</th>\n",
       "      <th>week8_text</th>\n",
       "      <th>LA08 total (Real)</th>\n",
       "      <th>week2_embeding</th>\n",
       "      <th>week2_santiment</th>\n",
       "      <th>week3_embeding</th>\n",
       "      <th>week3_santiment</th>\n",
       "    </tr>\n",
       "  </thead>\n",
       "  <tbody>\n",
       "    <tr>\n",
       "      <th>0</th>\n",
       "      <td>6.13</td>\n",
       "      <td>11.0</td>\n",
       "      <td>6.0</td>\n",
       "      <td>16.0</td>\n",
       "      <td>9.0</td>\n",
       "      <td></td>\n",
       "      <td>83.87</td>\n",
       "      <td></td>\n",
       "      <td>100.0</td>\n",
       "      <td></td>\n",
       "      <td>...</td>\n",
       "      <td></td>\n",
       "      <td>80.00</td>\n",
       "      <td></td>\n",
       "      <td>100.0</td>\n",
       "      <td></td>\n",
       "      <td>0.0</td>\n",
       "      <td>[-0.19054419, -0.1539861, -0.004027374, -0.348...</td>\n",
       "      <td>[0.22382927, 0.5498368, 0.22633386]</td>\n",
       "      <td>[-0.19054419, -0.1539861, -0.004027374, -0.348...</td>\n",
       "      <td>[0.22382927, 0.5498368, 0.22633386]</td>\n",
       "    </tr>\n",
       "    <tr>\n",
       "      <th>1</th>\n",
       "      <td>7.0</td>\n",
       "      <td>10.0</td>\n",
       "      <td>5.0</td>\n",
       "      <td>13.0</td>\n",
       "      <td>7.0</td>\n",
       "      <td>The whole 'return' and '__name__ == \"__main__...</td>\n",
       "      <td>100.0</td>\n",
       "      <td>I don't think there was necessarily an exampl...</td>\n",
       "      <td>100.0</td>\n",
       "      <td></td>\n",
       "      <td>...</td>\n",
       "      <td>None:)</td>\n",
       "      <td>80.00</td>\n",
       "      <td>No, it is no longer challenging</td>\n",
       "      <td>71.43</td>\n",
       "      <td></td>\n",
       "      <td>0.0</td>\n",
       "      <td>[-0.16863042, -0.45048615, 0.19275849, -0.8559...</td>\n",
       "      <td>[0.94230413, 0.0519551, 0.005740964]</td>\n",
       "      <td>[-0.1801885, -0.047691412, 0.093483225, -0.574...</td>\n",
       "      <td>[0.52830076, 0.3840897, 0.087609656]</td>\n",
       "    </tr>\n",
       "    <tr>\n",
       "      <th>2</th>\n",
       "      <td>7.0</td>\n",
       "      <td>10.0</td>\n",
       "      <td>6.0</td>\n",
       "      <td>12.0</td>\n",
       "      <td>9.0</td>\n",
       "      <td>Really enjoying the class so far.</td>\n",
       "      <td>100.0</td>\n",
       "      <td>Binary, it just seems difficult to understand...</td>\n",
       "      <td>100.0</td>\n",
       "      <td></td>\n",
       "      <td>...</td>\n",
       "      <td>None.</td>\n",
       "      <td>92.08</td>\n",
       "      <td>That week's material was clear</td>\n",
       "      <td>100.0</td>\n",
       "      <td></td>\n",
       "      <td>0.0</td>\n",
       "      <td>[0.22504117, 1.7043875, -0.5477258, -0.3081236...</td>\n",
       "      <td>[0.002098508, 0.015788857, 0.9821127]</td>\n",
       "      <td>[-0.21633385, 0.08302394, -0.060284074, -0.401...</td>\n",
       "      <td>[0.3588995, 0.48714393, 0.15395655]</td>\n",
       "    </tr>\n",
       "    <tr>\n",
       "      <th>3</th>\n",
       "      <td>0</td>\n",
       "      <td>8.0</td>\n",
       "      <td>0</td>\n",
       "      <td>13.0</td>\n",
       "      <td>4.0</td>\n",
       "      <td></td>\n",
       "      <td>66.13</td>\n",
       "      <td>The most challenging lab for me was 3.15. I b...</td>\n",
       "      <td>97.06</td>\n",
       "      <td></td>\n",
       "      <td>...</td>\n",
       "      <td></td>\n",
       "      <td>0.00</td>\n",
       "      <td></td>\n",
       "      <td>71.43</td>\n",
       "      <td></td>\n",
       "      <td>0.0</td>\n",
       "      <td>[-0.19054419, -0.1539861, -0.004027374, -0.348...</td>\n",
       "      <td>[0.22382927, 0.5498368, 0.22633386]</td>\n",
       "      <td>[-0.0878651, -0.23522758, 0.2718577, -0.547868...</td>\n",
       "      <td>[0.82052815, 0.15655486, 0.022917029]</td>\n",
       "    </tr>\n",
       "    <tr>\n",
       "      <th>4</th>\n",
       "      <td>6.13</td>\n",
       "      <td>9.0</td>\n",
       "      <td>7.0</td>\n",
       "      <td>14.0</td>\n",
       "      <td>8.0</td>\n",
       "      <td></td>\n",
       "      <td>100.0</td>\n",
       "      <td>no thoughts behind these eyes</td>\n",
       "      <td>97.06</td>\n",
       "      <td></td>\n",
       "      <td>...</td>\n",
       "      <td></td>\n",
       "      <td>85.00</td>\n",
       "      <td>I didn't submit Week 3 Reflection</td>\n",
       "      <td>100.0</td>\n",
       "      <td></td>\n",
       "      <td>0.0</td>\n",
       "      <td>[-0.19054419, -0.1539861, -0.004027374, -0.348...</td>\n",
       "      <td>[0.22382927, 0.5498368, 0.22633386]</td>\n",
       "      <td>[-0.66160876, -0.70356905, -0.041033622, -1.28...</td>\n",
       "      <td>[0.25896862, 0.66062313, 0.08040829]</td>\n",
       "    </tr>\n",
       "  </tbody>\n",
       "</table>\n",
       "<p>5 rows × 23 columns</p>\n",
       "</div>"
      ],
      "text/plain": [
       "  week2_quiz week3_quiz week4_quiz week6_quiz week7_quiz  \\\n",
       "0       6.13       11.0        6.0       16.0        9.0   \n",
       "1        7.0       10.0        5.0       13.0        7.0   \n",
       "2        7.0       10.0        6.0       12.0        9.0   \n",
       "3          0        8.0          0       13.0        4.0   \n",
       "4       6.13        9.0        7.0       14.0        8.0   \n",
       "\n",
       "                                          week2_text LA02 (Real)  \\\n",
       "0                                                          83.87   \n",
       "1   The whole 'return' and '__name__ == \"__main__...       100.0   \n",
       "2                 Really enjoying the class so far.        100.0   \n",
       "3                                                          66.13   \n",
       "4                                                          100.0   \n",
       "\n",
       "                                          week3_text LA03 (Real) week4_text  \\\n",
       "0                                                          100.0              \n",
       "1   I don't think there was necessarily an exampl...       100.0              \n",
       "2   Binary, it just seems difficult to understand...       100.0              \n",
       "3   The most challenging lab for me was 3.15. I b...       97.06              \n",
       "4                      no thoughts behind these eyes       97.06              \n",
       "\n",
       "   ... week6_text LA06 (combined) total (Real)  \\\n",
       "0  ...                                   80.00   \n",
       "1  ...     None:)                        80.00   \n",
       "2  ...      None.                        92.08   \n",
       "3  ...                                    0.00   \n",
       "4  ...                                   85.00   \n",
       "\n",
       "                            week7_text LA07 (Real)  week8_text  \\\n",
       "0                                            100.0               \n",
       "1     No, it is no longer challenging        71.43               \n",
       "2      That week's material was clear        100.0               \n",
       "3                                            71.43               \n",
       "4   I didn't submit Week 3 Reflection        100.0               \n",
       "\n",
       "  LA08 total (Real)                                     week2_embeding  \\\n",
       "0               0.0  [-0.19054419, -0.1539861, -0.004027374, -0.348...   \n",
       "1               0.0  [-0.16863042, -0.45048615, 0.19275849, -0.8559...   \n",
       "2               0.0  [0.22504117, 1.7043875, -0.5477258, -0.3081236...   \n",
       "3               0.0  [-0.19054419, -0.1539861, -0.004027374, -0.348...   \n",
       "4               0.0  [-0.19054419, -0.1539861, -0.004027374, -0.348...   \n",
       "\n",
       "                         week2_santiment  \\\n",
       "0    [0.22382927, 0.5498368, 0.22633386]   \n",
       "1   [0.94230413, 0.0519551, 0.005740964]   \n",
       "2  [0.002098508, 0.015788857, 0.9821127]   \n",
       "3    [0.22382927, 0.5498368, 0.22633386]   \n",
       "4    [0.22382927, 0.5498368, 0.22633386]   \n",
       "\n",
       "                                      week3_embeding  \\\n",
       "0  [-0.19054419, -0.1539861, -0.004027374, -0.348...   \n",
       "1  [-0.1801885, -0.047691412, 0.093483225, -0.574...   \n",
       "2  [-0.21633385, 0.08302394, -0.060284074, -0.401...   \n",
       "3  [-0.0878651, -0.23522758, 0.2718577, -0.547868...   \n",
       "4  [-0.66160876, -0.70356905, -0.041033622, -1.28...   \n",
       "\n",
       "                         week3_santiment  \n",
       "0    [0.22382927, 0.5498368, 0.22633386]  \n",
       "1   [0.52830076, 0.3840897, 0.087609656]  \n",
       "2    [0.3588995, 0.48714393, 0.15395655]  \n",
       "3  [0.82052815, 0.15655486, 0.022917029]  \n",
       "4   [0.25896862, 0.66062313, 0.08040829]  \n",
       "\n",
       "[5 rows x 23 columns]"
      ]
     },
     "execution_count": 295,
     "metadata": {},
     "output_type": "execute_result"
    }
   ],
   "source": [
    "cur_cols = [i for i in target.columns if \"text\" in i]\n",
    "for col in cur_cols[:2]:\n",
    "    #target = target[target[col].str.len() > 2]\n",
    "    num = col[4]\n",
    "    list_col = [str(i) for i in target[col]]\n",
    "    lengths = [len(i) for i in list_col]\n",
    "    print(min(lengths), max(lengths), sum(lengths)/len(lengths))\n",
    "    print(\"Cutted\", len([i for i in lengths if i > 500]))\n",
    "    list_col = [i[-500:] for i in list_col]\n",
    "    target[f\"week{num}_embeding\"] = [get_768_features(i) for i in list_col]\n",
    "    target[f\"week{num}_santiment\"] = rob.get_scores_for(list_col)\n",
    "\n",
    "    #See how they came - neg, neu, pos\n",
    "target.head()\n"
   ]
  },
  {
   "cell_type": "code",
   "execution_count": 296,
   "id": "c0aa7d62-3564-4307-8583-d24bdff43788",
   "metadata": {},
   "outputs": [
    {
     "data": {
      "text/plain": [
       "282"
      ]
     },
     "execution_count": 296,
     "metadata": {},
     "output_type": "execute_result"
    }
   ],
   "source": [
    "len(target)"
   ]
  },
  {
   "cell_type": "code",
   "execution_count": 297,
   "id": "22d22545-3dc8-42be-8b38-2b2960c7d40f",
   "metadata": {},
   "outputs": [
    {
     "data": {
      "text/plain": [
       "282"
      ]
     },
     "execution_count": 297,
     "metadata": {},
     "output_type": "execute_result"
    }
   ],
   "source": [
    "X = target[f\"week{3}_embeding\"]\n",
    "len(X)"
   ]
  },
  {
   "cell_type": "code",
   "execution_count": 264,
   "id": "21535476-a928-473c-aca6-cfdc4c8a775b",
   "metadata": {},
   "outputs": [],
   "source": [
    "from sklearn.cluster import DBSCAN, KMeans\n",
    "#DBSCAN(eps=0.30, min_samples=2)\n",
    "import sklearn.manifold\n",
    "from matplotlib import pyplot as plt\n",
    "\n"
   ]
  },
  {
   "cell_type": "code",
   "execution_count": 298,
   "id": "9c6b1933-a5ef-45cd-af6b-f9bc7a360d2e",
   "metadata": {},
   "outputs": [],
   "source": [
    "def make_clusters(X, n):\n",
    "    model = KMeans(n)\n",
    "    X = list(X)\n",
    "    yhat = model.fit_predict(X)\n",
    "    clusters = np.unique(yhat)\n",
    "    model = sklearn.manifold.TSNE().fit_transform(X)\n",
    "    plt.scatter(model[:,0], model[:,1], c=yhat)\n",
    "    plt.show()\n",
    "    return yhat"
   ]
  },
  {
   "cell_type": "code",
   "execution_count": 299,
   "id": "be42300a-9aa9-466f-88b9-2835dfed00ea",
   "metadata": {},
   "outputs": [
    {
     "name": "stdout",
     "output_type": "stream",
     "text": [
      "2\n"
     ]
    },
    {
     "name": "stderr",
     "output_type": "stream",
     "text": [
      "L:\\Users\\nectostr\\miniconda3\\envs\\nlp\\lib\\site-packages\\sklearn\\manifold\\_t_sne.py:780: FutureWarning: The default initialization in TSNE will change from 'random' to 'pca' in 1.2.\n",
      "  warnings.warn(\n",
      "L:\\Users\\nectostr\\miniconda3\\envs\\nlp\\lib\\site-packages\\sklearn\\manifold\\_t_sne.py:790: FutureWarning: The default learning rate in TSNE will change from 200.0 to 'auto' in 1.2.\n",
      "  warnings.warn(\n"
     ]
    },
    {
     "data": {
      "image/png": "[encoded data removed]",
      "text/plain": [
       "<Figure size 432x288 with 1 Axes>"
      ]
     },
     "metadata": {
      "needs_background": "light"
     },
     "output_type": "display_data"
    },
    {
     "name": "stdout",
     "output_type": "stream",
     "text": [
      "3\n"
     ]
    },
    {
     "name": "stderr",
     "output_type": "stream",
     "text": [
      "L:\\Users\\nectostr\\miniconda3\\envs\\nlp\\lib\\site-packages\\sklearn\\manifold\\_t_sne.py:780: FutureWarning: The default initialization in TSNE will change from 'random' to 'pca' in 1.2.\n",
      "  warnings.warn(\n",
      "L:\\Users\\nectostr\\miniconda3\\envs\\nlp\\lib\\site-packages\\sklearn\\manifold\\_t_sne.py:790: FutureWarning: The default learning rate in TSNE will change from 200.0 to 'auto' in 1.2.\n",
      "  warnings.warn(\n"
     ]
    },
    {
     "data": {
      "image/png": "[encoded data removed]",
      "text/plain": [
       "<Figure size 432x288 with 1 Axes>"
      ]
     },
     "metadata": {
      "needs_background": "light"
     },
     "output_type": "display_data"
    },
    {
     "name": "stdout",
     "output_type": "stream",
     "text": [
      "4\n"
     ]
    },
    {
     "name": "stderr",
     "output_type": "stream",
     "text": [
      "L:\\Users\\nectostr\\miniconda3\\envs\\nlp\\lib\\site-packages\\sklearn\\manifold\\_t_sne.py:780: FutureWarning: The default initialization in TSNE will change from 'random' to 'pca' in 1.2.\n",
      "  warnings.warn(\n",
      "L:\\Users\\nectostr\\miniconda3\\envs\\nlp\\lib\\site-packages\\sklearn\\manifold\\_t_sne.py:790: FutureWarning: The default learning rate in TSNE will change from 200.0 to 'auto' in 1.2.\n",
      "  warnings.warn(\n"
     ]
    },
    {
     "data": {
      "image/png": "[encoded data removed]",
      "text/plain": [
       "<Figure size 432x288 with 1 Axes>"
      ]
     },
     "metadata": {
      "needs_background": "light"
     },
     "output_type": "display_data"
    },
    {
     "name": "stdout",
     "output_type": "stream",
     "text": [
      "5\n"
     ]
    },
    {
     "name": "stderr",
     "output_type": "stream",
     "text": [
      "L:\\Users\\nectostr\\miniconda3\\envs\\nlp\\lib\\site-packages\\sklearn\\manifold\\_t_sne.py:780: FutureWarning: The default initialization in TSNE will change from 'random' to 'pca' in 1.2.\n",
      "  warnings.warn(\n",
      "L:\\Users\\nectostr\\miniconda3\\envs\\nlp\\lib\\site-packages\\sklearn\\manifold\\_t_sne.py:790: FutureWarning: The default learning rate in TSNE will change from 200.0 to 'auto' in 1.2.\n",
      "  warnings.warn(\n"
     ]
    },
    {
     "data": {
      "image/png": "[encoded data removed]",
      "text/plain": [
       "<Figure size 432x288 with 1 Axes>"
      ]
     },
     "metadata": {
      "needs_background": "light"
     },
     "output_type": "display_data"
    },
    {
     "name": "stdout",
     "output_type": "stream",
     "text": [
      "6\n"
     ]
    },
    {
     "name": "stderr",
     "output_type": "stream",
     "text": [
      "L:\\Users\\nectostr\\miniconda3\\envs\\nlp\\lib\\site-packages\\sklearn\\manifold\\_t_sne.py:780: FutureWarning: The default initialization in TSNE will change from 'random' to 'pca' in 1.2.\n",
      "  warnings.warn(\n",
      "L:\\Users\\nectostr\\miniconda3\\envs\\nlp\\lib\\site-packages\\sklearn\\manifold\\_t_sne.py:790: FutureWarning: The default learning rate in TSNE will change from 200.0 to 'auto' in 1.2.\n",
      "  warnings.warn(\n"
     ]
    },
    {
     "data": {
      "image/png": "[encoded data removed]",
      "text/plain": [
       "<Figure size 432x288 with 1 Axes>"
      ]
     },
     "metadata": {
      "needs_background": "light"
     },
     "output_type": "display_data"
    },
    {
     "name": "stdout",
     "output_type": "stream",
     "text": [
      "7\n"
     ]
    },
    {
     "name": "stderr",
     "output_type": "stream",
     "text": [
      "L:\\Users\\nectostr\\miniconda3\\envs\\nlp\\lib\\site-packages\\sklearn\\manifold\\_t_sne.py:780: FutureWarning: The default initialization in TSNE will change from 'random' to 'pca' in 1.2.\n",
      "  warnings.warn(\n",
      "L:\\Users\\nectostr\\miniconda3\\envs\\nlp\\lib\\site-packages\\sklearn\\manifold\\_t_sne.py:790: FutureWarning: The default learning rate in TSNE will change from 200.0 to 'auto' in 1.2.\n",
      "  warnings.warn(\n"
     ]
    },
    {
     "data": {
      "image/png": "[encoded data removed]",
      "text/plain": [
       "<Figure size 432x288 with 1 Axes>"
      ]
     },
     "metadata": {
      "needs_background": "light"
     },
     "output_type": "display_data"
    },
    {
     "name": "stdout",
     "output_type": "stream",
     "text": [
      "8\n"
     ]
    },
    {
     "name": "stderr",
     "output_type": "stream",
     "text": [
      "L:\\Users\\nectostr\\miniconda3\\envs\\nlp\\lib\\site-packages\\sklearn\\manifold\\_t_sne.py:780: FutureWarning: The default initialization in TSNE will change from 'random' to 'pca' in 1.2.\n",
      "  warnings.warn(\n",
      "L:\\Users\\nectostr\\miniconda3\\envs\\nlp\\lib\\site-packages\\sklearn\\manifold\\_t_sne.py:790: FutureWarning: The default learning rate in TSNE will change from 200.0 to 'auto' in 1.2.\n",
      "  warnings.warn(\n"
     ]
    },
    {
     "data": {
      "image/png": "[encoded data removed]",
      "text/plain": [
       "<Figure size 432x288 with 1 Axes>"
      ]
     },
     "metadata": {
      "needs_background": "light"
     },
     "output_type": "display_data"
    },
    {
     "name": "stdout",
     "output_type": "stream",
     "text": [
      "9\n"
     ]
    },
    {
     "name": "stderr",
     "output_type": "stream",
     "text": [
      "L:\\Users\\nectostr\\miniconda3\\envs\\nlp\\lib\\site-packages\\sklearn\\manifold\\_t_sne.py:780: FutureWarning: The default initialization in TSNE will change from 'random' to 'pca' in 1.2.\n",
      "  warnings.warn(\n",
      "L:\\Users\\nectostr\\miniconda3\\envs\\nlp\\lib\\site-packages\\sklearn\\manifold\\_t_sne.py:790: FutureWarning: The default learning rate in TSNE will change from 200.0 to 'auto' in 1.2.\n",
      "  warnings.warn(\n"
     ]
    },
    {
     "data": {
      "image/png": "[encoded data removed]",
      "text/plain": [
       "<Figure size 432x288 with 1 Axes>"
      ]
     },
     "metadata": {
      "needs_background": "light"
     },
     "output_type": "display_data"
    }
   ],
   "source": [
    "for n in range(2,10):\n",
    "    print(n)\n",
    "    make_clusters(X, n)"
   ]
  },
  {
   "cell_type": "code",
   "execution_count": 300,
   "id": "1b2fee64-c746-45a9-b883-7c3ced6e3a83",
   "metadata": {},
   "outputs": [
    {
     "name": "stderr",
     "output_type": "stream",
     "text": [
      "L:\\Users\\nectostr\\miniconda3\\envs\\nlp\\lib\\site-packages\\sklearn\\manifold\\_t_sne.py:780: FutureWarning: The default initialization in TSNE will change from 'random' to 'pca' in 1.2.\n",
      "  warnings.warn(\n",
      "L:\\Users\\nectostr\\miniconda3\\envs\\nlp\\lib\\site-packages\\sklearn\\manifold\\_t_sne.py:790: FutureWarning: The default learning rate in TSNE will change from 200.0 to 'auto' in 1.2.\n",
      "  warnings.warn(\n"
     ]
    },
    {
     "data": {
      "image/png": "[encoded data removed]",
      "text/plain": [
       "<Figure size 432x288 with 1 Axes>"
      ]
     },
     "metadata": {
      "needs_background": "light"
     },
     "output_type": "display_data"
    }
   ],
   "source": [
    "y = make_clusters(X, 5)"
   ]
  },
  {
   "cell_type": "code",
   "execution_count": 301,
   "id": "a038bad9-0058-429b-9836-ed954ac8c7c9",
   "metadata": {},
   "outputs": [],
   "source": [
    "target[\"clusters\"] = y"
   ]
  },
  {
   "cell_type": "code",
   "execution_count": 302,
   "id": "cc0431f8-cf1e-4e15-9fbb-a0ae38f4f434",
   "metadata": {},
   "outputs": [
    {
     "data": {
      "text/plain": [
       "Index(['week2_quiz', 'week3_quiz', 'week4_quiz', 'week6_quiz', 'week7_quiz',\n",
       "       'week2_text', 'LA02 (Real)', 'week3_text', 'LA03 (Real)', 'week4_text',\n",
       "       'LA04 (Real)', 'week5_text', 'LA05 (Real)', 'week6_text',\n",
       "       'LA06 (combined) total (Real)', 'week7_text', 'LA07 (Real)',\n",
       "       'week8_text', 'LA08 total (Real)', 'week2_embeding', 'week2_santiment',\n",
       "       'week3_embeding', 'week3_santiment', 'clusters'],\n",
       "      dtype='object')"
      ]
     },
     "execution_count": 302,
     "metadata": {},
     "output_type": "execute_result"
    }
   ],
   "source": [
    "current.columns"
   ]
  },
  {
   "cell_type": "code",
   "execution_count": 303,
   "id": "2ec7cd9f-8c5e-45ce-a4a3-69801c5c12a1",
   "metadata": {},
   "outputs": [
    {
     "name": "stdout",
     "output_type": "stream",
     "text": [
      "Clus 0, len 39\n",
      "LAs 89.81923076923077 100.0 0.0\n",
      "Qs 9.076923076923077 10.0 0.0\n",
      "Sant [0.7810041  0.19906083 0.01993514] [0.7821185  0.19613211 0.01982073] [0.5541326  0.04178615 0.00412807]\n",
      "Clus 1, len 111\n",
      "LAs 78.64333333333333 100.0 0.0\n",
      "Qs 8.297297297297296 10.0 0.0\n",
      "Sant [0.22105472 0.5561007  0.22284374] [0.22382927 0.5498368  0.22633386] [0.15068793 0.5068831  0.13350299]\n",
      "Clus 2, len 55\n",
      "LAs 93.9570909090909 100.0 29.41\n",
      "Qs 9.6 10.0 0.0\n",
      "Sant [0.48044568 0.4252747  0.09427943] [0.49205735 0.43785116 0.08030234] [0.16016823 0.24801217 0.03249913]\n",
      "Clus 3, len 34\n",
      "LAs 87.88941176470587 100.0 0.0\n",
      "Qs 9.588235294117647 10.0 0.0\n",
      "Sant [0.06102584 0.33844155 0.60053253] [0.05372562 0.37216687 0.54293233] [0.00116439 0.00945985 0.28342286]\n",
      "Clus 4, len 43\n",
      "LAs 88.44093023255815 100.0 0.0\n",
      "Qs 9.534883720930232 10.0 0.0\n",
      "Sant [0.13264659 0.7585183  0.10883512] [0.11221241 0.7894666  0.09821445] [0.02775623 0.31495428 0.03388234]\n"
     ]
    }
   ],
   "source": [
    "for clus in np.unique(y):\n",
    "    current = target[target[\"clusters\"] == clus]\n",
    "    print(f\"Clus {clus}, len {len(current)}\")\n",
    "    # for i in current[\"week3_text\"]:\n",
    "    #     print(\"-\", i)\n",
    "    # print(\"\\n\")\n",
    "    current.loc[current[\"LA03 (Real)\"] == \"-\",\"LA03 (Real)\"] = 0\n",
    "    las = [float(i) for i in current[\"LA03 (Real)\"]]\n",
    "    qi = [float(i) for i in current[\"week3_quiz\"]]\n",
    "    sant = np.array([np.array(i) for i in current[\"week3_santiment\"]])\n",
    "    print(\"LAs\", np.mean(las), np.median(las), np.min(las))\n",
    "    print(\"Qs\", np.mean(qi), np.median(qi), np.min(qi))\n",
    "    print(\"Sant\", np.mean(sant, axis=0), np.median(sant, axis=0), np.min(sant, axis=0))\n",
    "    # print(las)\n",
    "        "
   ]
  },
  {
   "cell_type": "code",
   "execution_count": 305,
   "id": "bb961cac-9b5f-49ad-96ef-a5d830812870",
   "metadata": {},
   "outputs": [
    {
     "name": "stdout",
     "output_type": "stream",
     "text": [
      "-  The most challenging lab for me was 3.15. I believe my code is very close to being accurate, but I still do not know what's wrong so Im going to attend office hours this week. I think that I got something about the syntax of adding and indexing strings wrong.  Nope!\n",
      "-  I had a hard time with the break out room custom dicionary activity. I didn't fully understand the instructions and what the output should look like. I sort of ended up giving up  \n",
      "-  actually use the different types when writing a function. And writing function in general can still be a little confusing.  \n",
      "-  I think tupels and dictionaries were definitely difficult at first as well as indexing even though it was quite a simple topic. It's just a different kind of formula that I wasn't really used to using that I need to practice more.  \n",
      "-  Combining functions with dictionaries. One of the labs we had to call a dictionary in a function and I ran into a problem where I just couldn’t figure out how to combine the 2. I think I understand the basics of both but combining them together and trying to call one within the other just didn’t make sense to me. \n",
      "-   None I would hope the section can be recorded because I can't really understand the TA's accent.;-;\n",
      "-  I found dictionary a bit confusing. THe activities in class got me confused a bit too, although i found out it was also cuz i was using the wrong type of parenthesis \n",
      "-  It must be the custom dictionary as I feel the instructions were a bit awkward and unclear and I over thought the code necessary to meet the demands of the assignment. \n",
      "-  Working with lists and appending. Having trouble with lab check point 3.12. \n",
      "-  Dicts, differentiating the format for a set, tuple and a dict was hard to remember as well as remembering how to call a dict by using [] in a function call. \n",
      "-  Understanding Binary numbers was the most difficult for me. \n",
      "-  I really struggled with dics and tuples like the one where you had to make a key to take the desired result.  I am confused about checkpoint labs, I checked the forum, and asked my TA and I still don't get what is graded for them. \n",
      "-  I struggled with type conversions. I kept trying to add 2 numbers but they wouldn't because they were strings not integers so I had to convert them. I need to remember to check the type when I'm coding.  \n",
      "-  the accessing library lab checkpoint was very challenging for me \n",
      "-  which data container was mutable and when to use which in a certain scenario This class takes up a lot of time in total, everything is a bit too much\n",
      "-   im sorry for late feedback was driving\n",
      "-  the labs were so hard. i didn't really know how to incorporate some of this stuff into functions at first.  \n",
      "-  Binary was tricky for me but I used the zybooks tool to figure activity 3.8.2 out  I don't know why we have to learn binary, I guess I just don't personally see the value in it. \n",
      "-  The unit tests for some of the LA's made me struggle quite a bit, as I had always achieved the output but there were still small errors I couldn't find. \n",
      "-  I find the labs to be a little rough \n",
      "-  dictionary basics. i thought i had it down, but during the lab checkpoint \"a custom dictionary\", i found it difficult to use the function call to return a certain value. also the if __main__ line really throws me off and i don't understand it at all. \n",
      "-  I feel like combining dictionary with function is the hardest part.  \n",
      "-  For me, actually creating formulas and placing them inside the \"def\" section of the code was the most difficult for me. I found it challenging creating different variables that are not the same as the ones that are found inside the \"if__name__ == \"main\"\" part of the code.  \n",
      "-  my personal problems is how to use \"return\" into the main function \n",
      "-  None  Yes! I started working three/four days a week and I do not know how to manage my time :(\n",
      "-  String formatting, was extremely difficult for me. It is difficult to wrap my head around the brackets required for the code to work. \n",
      "-  Lab sections are really hard like with the dictionary and phone number \n",
      "-   stop babying students. at some point it is time to grow up and be responsible adults. it is absurd that they are entirely unable to function in class, school, and life without having every single thing handed to them on a silver platter, spoon-fed, and shoved down their throats. \n",
      "-  Sets are confusing. Out of all the labs due, the sets one is the most confusing. I plan on going to office hours to get help with the lab \n",
      "-  The dictionary basics is most challenging.I always confuse what symbol to use, like {}, [], or (). I take a note of them to distinguish. \n",
      "-  def part I think we should talk more about participation in class. I'm super confused about that. Even I attended the lectures but I still didn't get full points.\n",
      "-  Dictitionary, because the keys and values confuse me sometimes. May I get the review of the quiz earlier?\n",
      "-  I think representing text is the most challenging topic for me. Because I always cannot remember the character clearly. So I always make some mistakes. Nothing.\n",
      "-  The binary numbers were a bit confusing at first. What made it challenging is that I didn't know how to convert them. \n",
      "-  dont know how to use iclicker \n",
      "-  It's hard to find which kind of data set I should use for a specific problem.(list, set, tuple, dictionary) \n",
      "-  representing text seems a bit confusing to me. I always have to look back to check. In addition, the difference between int str and float is also something I had to check frequently.  \n",
      "-  Dictionary basics, like nesting a dictionary in a dictionary    My Weekly Reflection Grade and Course participation Grade are not updated.      :( \n",
      "-  set/lab3.16 pop quiz somehow is pretty confusing to me.\n",
      "\n",
      "\n"
     ]
    }
   ],
   "source": [
    "for i in target.loc[target[\"clusters\"] == 0,\"week3_text\"]:\n",
    "    print(\"-\", i)\n",
    "print(\"\\n\")"
   ]
  },
  {
   "cell_type": "code",
   "execution_count": null,
   "id": "4f4d2f72-5827-4893-b822-72d518a6926c",
   "metadata": {},
   "outputs": [],
   "source": []
  }
 ],
 "metadata": {
  "kernelspec": {
   "display_name": "Python 3 (ipykernel)",
   "language": "python",
   "name": "python3"
  },
  "language_info": {
   "codemirror_mode": {
    "name": "ipython",
    "version": 3
   },
   "file_extension": ".py",
   "mimetype": "text/x-python",
   "name": "python",
   "nbconvert_exporter": "python",
   "pygments_lexer": "ipython3",
   "version": "3.9.12"
  }
 },
 "nbformat": 4,
 "nbformat_minor": 5
}
